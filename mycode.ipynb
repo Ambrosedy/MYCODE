{
 "cells": [
  {
   "cell_type": "code",
   "execution_count": 1,
   "metadata": {},
   "outputs": [],
   "source": [
    "import pandas as pd\n",
    "import numpy as np\n",
    "import"
   ]
  },
  {
   "cell_type": "code",
   "execution_count": 3,
   "metadata": {},
   "outputs": [],
   "source": [
    "data = np.loadtxt('test_data.txt',dtype=np.int32, delimiter=',')"
   ]
  },
  {
   "cell_type": "code",
   "execution_count": 4,
   "metadata": {},
   "outputs": [
    {
     "data": {
      "text/plain": [
       "array([[ 158,  295,  638],\n",
       "       [ 295,  175,  594],\n",
       "       [ 175,  158,  273],\n",
       "       ...,\n",
       "       [6004, 6008,    1],\n",
       "       [6008, 6007,    1],\n",
       "       [6006, 6002,    1]], dtype=int32)"
      ]
     },
     "execution_count": 4,
     "metadata": {},
     "output_type": "execute_result"
    }
   ],
   "source": [
    "data"
   ]
  },
  {
   "cell_type": "code",
   "execution_count": 5,
   "metadata": {},
   "outputs": [
    {
     "data": {
      "text/plain": [
       "(5030, 3)"
      ]
     },
     "execution_count": 5,
     "metadata": {},
     "output_type": "execute_result"
    }
   ],
   "source": [
    "data.shape"
   ]
  },
  {
   "cell_type": "code",
   "execution_count": 204,
   "metadata": {},
   "outputs": [],
   "source": [
    "def process_one(data):\n",
    "        data0 = set([data[i][0] for i in range(data.shape[0])])\n",
    "        data1 = set([data[i][1] for i in range(data.shape[0])])\n",
    "        #求交集\n",
    "        lis = data0&data1\n",
    "        #del_list = []\n",
    "        dat = []\n",
    "        for i in range(data.shape[0]):\n",
    "            if (data[i][0] in lis)and(data[i][1] in lis):\n",
    "                dat.append(data[i])\n",
    "        #dat = np.delete(data,del_list,axis=0)\n",
    "        \n",
    "        return np.array(dat)"
   ]
  },
  {
   "cell_type": "code",
   "execution_count": 234,
   "metadata": {},
   "outputs": [
    {
     "data": {
      "text/plain": [
       "(2608, 3)"
      ]
     },
     "execution_count": 234,
     "metadata": {},
     "output_type": "execute_result"
    }
   ],
   "source": [
    "dat = process_one(data)\n",
    "dat.shape"
   ]
  },
  {
   "cell_type": "code",
   "execution_count": 194,
   "metadata": {},
   "outputs": [],
   "source": [
    "data0 = set([data[i][0] for i in range(data.shape[0])])\n",
    "data1 = set([data[i][1] for i in range(data.shape[0])])"
   ]
  },
  {
   "cell_type": "code",
   "execution_count": 207,
   "metadata": {},
   "outputs": [],
   "source": [
    "dat1 = list(data0&data1)"
   ]
  },
  {
   "cell_type": "code",
   "execution_count": 208,
   "metadata": {},
   "outputs": [
    {
     "data": {
      "text/plain": [
       "[18,\n",
       " 23,\n",
       " 24,\n",
       " 26,\n",
       " 27,\n",
       " 56,\n",
       " 58,\n",
       " 61,\n",
       " 64,\n",
       " 65,\n",
       " 67,\n",
       " 83,\n",
       " 91,\n",
       " 94,\n",
       " 107,\n",
       " 114,\n",
       " 121,\n",
       " 126,\n",
       " 127,\n",
       " 128,\n",
       " 139,\n",
       " 140,\n",
       " 144,\n",
       " 145,\n",
       " 149,\n",
       " 150,\n",
       " 158,\n",
       " 159,\n",
       " 164,\n",
       " 175,\n",
       " 176,\n",
       " 179,\n",
       " 185,\n",
       " 188,\n",
       " 192,\n",
       " 194,\n",
       " 197,\n",
       " 198,\n",
       " 205,\n",
       " 208,\n",
       " 214,\n",
       " 222,\n",
       " 223,\n",
       " 227,\n",
       " 231,\n",
       " 234,\n",
       " 237,\n",
       " 242,\n",
       " 255,\n",
       " 259,\n",
       " 268,\n",
       " 271,\n",
       " 272,\n",
       " 292,\n",
       " 293,\n",
       " 295,\n",
       " 296,\n",
       " 299,\n",
       " 300,\n",
       " 303,\n",
       " 325,\n",
       " 338,\n",
       " 346,\n",
       " 360,\n",
       " 368,\n",
       " 375,\n",
       " 377,\n",
       " 382,\n",
       " 383,\n",
       " 395,\n",
       " 401,\n",
       " 409,\n",
       " 413,\n",
       " 434,\n",
       " 437,\n",
       " 440,\n",
       " 444,\n",
       " 447,\n",
       " 455,\n",
       " 456,\n",
       " 460,\n",
       " 476,\n",
       " 485,\n",
       " 493,\n",
       " 500,\n",
       " 501,\n",
       " 505,\n",
       " 513,\n",
       " 517,\n",
       " 521,\n",
       " 523,\n",
       " 526,\n",
       " 528,\n",
       " 542,\n",
       " 543,\n",
       " 545,\n",
       " 546,\n",
       " 551,\n",
       " 557,\n",
       " 558,\n",
       " 564,\n",
       " 567,\n",
       " 569,\n",
       " 572,\n",
       " 575,\n",
       " 582,\n",
       " 587,\n",
       " 588,\n",
       " 589,\n",
       " 590,\n",
       " 593,\n",
       " 594,\n",
       " 608,\n",
       " 614,\n",
       " 621,\n",
       " 628,\n",
       " 643,\n",
       " 652,\n",
       " 663,\n",
       " 671,\n",
       " 675,\n",
       " 682,\n",
       " 683,\n",
       " 685,\n",
       " 697,\n",
       " 699,\n",
       " 708,\n",
       " 716,\n",
       " 726,\n",
       " 732,\n",
       " 734,\n",
       " 738,\n",
       " 745,\n",
       " 748,\n",
       " 755,\n",
       " 757,\n",
       " 777,\n",
       " 783,\n",
       " 789,\n",
       " 799,\n",
       " 806,\n",
       " 808,\n",
       " 809,\n",
       " 811,\n",
       " 816,\n",
       " 822,\n",
       " 826,\n",
       " 827,\n",
       " 828,\n",
       " 831,\n",
       " 833,\n",
       " 835,\n",
       " 846,\n",
       " 847,\n",
       " 856,\n",
       " 862,\n",
       " 872,\n",
       " 874,\n",
       " 877,\n",
       " 879,\n",
       " 880,\n",
       " 881,\n",
       " 883,\n",
       " 887,\n",
       " 891,\n",
       " 898,\n",
       " 900,\n",
       " 903,\n",
       " 912,\n",
       " 932,\n",
       " 933,\n",
       " 934,\n",
       " 935,\n",
       " 936,\n",
       " 937,\n",
       " 942,\n",
       " 943,\n",
       " 947,\n",
       " 952,\n",
       " 955,\n",
       " 961,\n",
       " 963,\n",
       " 970,\n",
       " 971,\n",
       " 976,\n",
       " 981,\n",
       " 993,\n",
       " 994,\n",
       " 996,\n",
       " 1000,\n",
       " 1005,\n",
       " 1010,\n",
       " 1013,\n",
       " 1015,\n",
       " 1026,\n",
       " 1028,\n",
       " 1034,\n",
       " 1039,\n",
       " 1041,\n",
       " 1043,\n",
       " 1044,\n",
       " 1045,\n",
       " 1050,\n",
       " 1052,\n",
       " 1054,\n",
       " 1057,\n",
       " 1059,\n",
       " 1064,\n",
       " 1066,\n",
       " 1067,\n",
       " 1072,\n",
       " 1073,\n",
       " 1075,\n",
       " 1076,\n",
       " 1077,\n",
       " 1080,\n",
       " 1085,\n",
       " 1094,\n",
       " 1095,\n",
       " 1100,\n",
       " 1112,\n",
       " 1114,\n",
       " 1115,\n",
       " 1119,\n",
       " 1121,\n",
       " 1124,\n",
       " 1125,\n",
       " 1127,\n",
       " 1129,\n",
       " 1131,\n",
       " 1133,\n",
       " 1134,\n",
       " 1143,\n",
       " 1155,\n",
       " 1156,\n",
       " 1157,\n",
       " 1160,\n",
       " 1162,\n",
       " 1163,\n",
       " 1171,\n",
       " 1173,\n",
       " 1176,\n",
       " 1177,\n",
       " 1178,\n",
       " 1180,\n",
       " 1181,\n",
       " 1183,\n",
       " 1185,\n",
       " 1186,\n",
       " 1190,\n",
       " 1192,\n",
       " 1194,\n",
       " 1195,\n",
       " 1198,\n",
       " 1204,\n",
       " 1214,\n",
       " 1219,\n",
       " 1221,\n",
       " 1222,\n",
       " 1226,\n",
       " 1241,\n",
       " 1245,\n",
       " 1249,\n",
       " 1261,\n",
       " 1279,\n",
       " 1291,\n",
       " 1293,\n",
       " 1296,\n",
       " 1298,\n",
       " 1312,\n",
       " 1315,\n",
       " 1316,\n",
       " 1319,\n",
       " 1320,\n",
       " 1333,\n",
       " 1336,\n",
       " 1343,\n",
       " 1344,\n",
       " 1348,\n",
       " 1352,\n",
       " 1358,\n",
       " 1359,\n",
       " 1363,\n",
       " 1375,\n",
       " 1377,\n",
       " 1380,\n",
       " 1400,\n",
       " 1404,\n",
       " 1409,\n",
       " 1412,\n",
       " 1414,\n",
       " 1420,\n",
       " 1421,\n",
       " 1424,\n",
       " 1427,\n",
       " 1436,\n",
       " 1437,\n",
       " 1441,\n",
       " 1447,\n",
       " 1448,\n",
       " 1454,\n",
       " 1455,\n",
       " 1456,\n",
       " 1458,\n",
       " 1460,\n",
       " 1464,\n",
       " 1465,\n",
       " 1466,\n",
       " 1467,\n",
       " 1479,\n",
       " 1487,\n",
       " 1488,\n",
       " 1490,\n",
       " 1496,\n",
       " 1498,\n",
       " 1500,\n",
       " 1502,\n",
       " 1504,\n",
       " 1505,\n",
       " 1509,\n",
       " 1511,\n",
       " 1512,\n",
       " 1513,\n",
       " 1515,\n",
       " 1530,\n",
       " 1539,\n",
       " 1542,\n",
       " 1545,\n",
       " 1553,\n",
       " 1559,\n",
       " 1561,\n",
       " 1566,\n",
       " 1568,\n",
       " 1574,\n",
       " 1577,\n",
       " 1579,\n",
       " 1585,\n",
       " 1587,\n",
       " 1588,\n",
       " 1591,\n",
       " 1592,\n",
       " 1593,\n",
       " 1594,\n",
       " 1600,\n",
       " 1602,\n",
       " 1604,\n",
       " 1605,\n",
       " 1608,\n",
       " 1609,\n",
       " 1612,\n",
       " 1624,\n",
       " 1627,\n",
       " 1630,\n",
       " 1631,\n",
       " 1632,\n",
       " 1646,\n",
       " 1649,\n",
       " 1651,\n",
       " 1655,\n",
       " 1656,\n",
       " 1661,\n",
       " 1662,\n",
       " 1665,\n",
       " 1671,\n",
       " 1678,\n",
       " 1683,\n",
       " 1689,\n",
       " 1691,\n",
       " 1696,\n",
       " 1697,\n",
       " 1701,\n",
       " 1703,\n",
       " 1707,\n",
       " 1708,\n",
       " 1710,\n",
       " 1714,\n",
       " 1715,\n",
       " 1717,\n",
       " 1724,\n",
       " 1727,\n",
       " 1728,\n",
       " 1731,\n",
       " 1733,\n",
       " 1744,\n",
       " 1745,\n",
       " 1747,\n",
       " 1748,\n",
       " 1749,\n",
       " 1752,\n",
       " 1754,\n",
       " 1755,\n",
       " 1757,\n",
       " 1758,\n",
       " 1759,\n",
       " 1760,\n",
       " 1762,\n",
       " 1763,\n",
       " 1764,\n",
       " 1765,\n",
       " 1771,\n",
       " 1772,\n",
       " 1776,\n",
       " 1778,\n",
       " 1779,\n",
       " 1780,\n",
       " 1782,\n",
       " 1791,\n",
       " 1797,\n",
       " 1799,\n",
       " 1808,\n",
       " 1813,\n",
       " 1815,\n",
       " 1818,\n",
       " 1821,\n",
       " 1822,\n",
       " 1825,\n",
       " 1826,\n",
       " 1828,\n",
       " 1830,\n",
       " 1834,\n",
       " 1835,\n",
       " 1837,\n",
       " 1838,\n",
       " 1841,\n",
       " 1843,\n",
       " 1848,\n",
       " 1849,\n",
       " 1856,\n",
       " 1861,\n",
       " 1874,\n",
       " 1875,\n",
       " 1882,\n",
       " 1883,\n",
       " 1886,\n",
       " 1889,\n",
       " 1894,\n",
       " 1895,\n",
       " 1896,\n",
       " 1904,\n",
       " 1905,\n",
       " 1907,\n",
       " 1909,\n",
       " 1912,\n",
       " 1918,\n",
       " 1921,\n",
       " 1922,\n",
       " 1931,\n",
       " 1932,\n",
       " 1943,\n",
       " 1945,\n",
       " 1946,\n",
       " 1949,\n",
       " 1950,\n",
       " 1951,\n",
       " 1953,\n",
       " 1956,\n",
       " 1957,\n",
       " 1958,\n",
       " 1963,\n",
       " 1966,\n",
       " 1967,\n",
       " 1968,\n",
       " 1972,\n",
       " 1973,\n",
       " 1975,\n",
       " 1977,\n",
       " 1983,\n",
       " 1986,\n",
       " 1987,\n",
       " 1988,\n",
       " 1989,\n",
       " 1991,\n",
       " 1993,\n",
       " 1998,\n",
       " 1999,\n",
       " 2000,\n",
       " 2002,\n",
       " 2004,\n",
       " 2005,\n",
       " 2006,\n",
       " 2008,\n",
       " 2010,\n",
       " 2018,\n",
       " 2019,\n",
       " 2020,\n",
       " 2021,\n",
       " 2022,\n",
       " 2025,\n",
       " 2026,\n",
       " 2027,\n",
       " 2032,\n",
       " 2035,\n",
       " 2037,\n",
       " 2043,\n",
       " 2044,\n",
       " 2046,\n",
       " 2048,\n",
       " 2049,\n",
       " 2052,\n",
       " 2056,\n",
       " 2058,\n",
       " 2060,\n",
       " 2061,\n",
       " 2064,\n",
       " 2066,\n",
       " 2067,\n",
       " 2071,\n",
       " 2076,\n",
       " 2079,\n",
       " 2080,\n",
       " 2082,\n",
       " 2085,\n",
       " 2090,\n",
       " 2092,\n",
       " 2096,\n",
       " 2097,\n",
       " 2098,\n",
       " 2099,\n",
       " 2101,\n",
       " 2103,\n",
       " 2107,\n",
       " 2112,\n",
       " 2113,\n",
       " 2116,\n",
       " 2118,\n",
       " 2119,\n",
       " 2120,\n",
       " 2123,\n",
       " 2127,\n",
       " 2128,\n",
       " 2134,\n",
       " 2135,\n",
       " 2137,\n",
       " 2142,\n",
       " 2143,\n",
       " 2144,\n",
       " 2149,\n",
       " 2152,\n",
       " 2154,\n",
       " 2157,\n",
       " 2163,\n",
       " 2164,\n",
       " 2165,\n",
       " 2167,\n",
       " 2169,\n",
       " 2171,\n",
       " 2175,\n",
       " 2176,\n",
       " 2177,\n",
       " 2180,\n",
       " 2181,\n",
       " 2183,\n",
       " 2186,\n",
       " 2187,\n",
       " 2188,\n",
       " 2192,\n",
       " 2195,\n",
       " 2196,\n",
       " 2198,\n",
       " 2199,\n",
       " 2203,\n",
       " 2204,\n",
       " 2208,\n",
       " 2211,\n",
       " 2215,\n",
       " 2216,\n",
       " 2217,\n",
       " 2220,\n",
       " 2222,\n",
       " 2231,\n",
       " 2232,\n",
       " 2233,\n",
       " 2235,\n",
       " 2236,\n",
       " 2237,\n",
       " 2240,\n",
       " 2241,\n",
       " 2246,\n",
       " 2249,\n",
       " 2250,\n",
       " 2251,\n",
       " 2252,\n",
       " 2253,\n",
       " 2254,\n",
       " 2257,\n",
       " 2260,\n",
       " 2263,\n",
       " 2264,\n",
       " 2265,\n",
       " 2266,\n",
       " 2270,\n",
       " 2271,\n",
       " 2275,\n",
       " 2276,\n",
       " 2279,\n",
       " 2282,\n",
       " 2287,\n",
       " 2290,\n",
       " 2293,\n",
       " 2295,\n",
       " 2299,\n",
       " 2300,\n",
       " 2301,\n",
       " 2303,\n",
       " 2307,\n",
       " 2311,\n",
       " 2315,\n",
       " 2319,\n",
       " 2321,\n",
       " 2323,\n",
       " 2324,\n",
       " 2326,\n",
       " 2327,\n",
       " 2329,\n",
       " 2330,\n",
       " 2331,\n",
       " 2336,\n",
       " 2337,\n",
       " 2341,\n",
       " 2342,\n",
       " 2344,\n",
       " 2345,\n",
       " 2348,\n",
       " 2352,\n",
       " 2353,\n",
       " 2354,\n",
       " 2355,\n",
       " 2356,\n",
       " 2357,\n",
       " 2359,\n",
       " 2360,\n",
       " 2365,\n",
       " 2367,\n",
       " 2372,\n",
       " 2375,\n",
       " 2376,\n",
       " 2378,\n",
       " 2379,\n",
       " 2381,\n",
       " 2382,\n",
       " 2384,\n",
       " 2385,\n",
       " 2387,\n",
       " 2388,\n",
       " 2389,\n",
       " 2391,\n",
       " 2392,\n",
       " 2393,\n",
       " 2394,\n",
       " 2395,\n",
       " 2398,\n",
       " 2400,\n",
       " 2402,\n",
       " 2408,\n",
       " 2410,\n",
       " 2412,\n",
       " 2414,\n",
       " 2415,\n",
       " 2416,\n",
       " 2417,\n",
       " 2418,\n",
       " 2420,\n",
       " 2426,\n",
       " 2427,\n",
       " 2428,\n",
       " 2429,\n",
       " 2430,\n",
       " 2431,\n",
       " 2433,\n",
       " 2434,\n",
       " 2437,\n",
       " 2438,\n",
       " 2439,\n",
       " 2441,\n",
       " 2443,\n",
       " 2444,\n",
       " 2445,\n",
       " 2448,\n",
       " 2451,\n",
       " 2452,\n",
       " 2453,\n",
       " 2454,\n",
       " 2457,\n",
       " 2458,\n",
       " 2459,\n",
       " 2462,\n",
       " 2466,\n",
       " 2467,\n",
       " 2468,\n",
       " 2470,\n",
       " 2471,\n",
       " 2473,\n",
       " 2474,\n",
       " 2475,\n",
       " 2476,\n",
       " 2478,\n",
       " 2479,\n",
       " 2482,\n",
       " 2484,\n",
       " 2485,\n",
       " 2487,\n",
       " 2490,\n",
       " 2494,\n",
       " 2496,\n",
       " 2497,\n",
       " 2499,\n",
       " 2501,\n",
       " 2502,\n",
       " 2504,\n",
       " 2505,\n",
       " 2506,\n",
       " 2507,\n",
       " 2510,\n",
       " 2511,\n",
       " 2513,\n",
       " 2515,\n",
       " 2520,\n",
       " 2522,\n",
       " 2523,\n",
       " 2524,\n",
       " 2525,\n",
       " 2528,\n",
       " 2531,\n",
       " 2533,\n",
       " 2537,\n",
       " 2538,\n",
       " 2541,\n",
       " 2542,\n",
       " 2544,\n",
       " 2545,\n",
       " 2550,\n",
       " 2553,\n",
       " 2554,\n",
       " 2555,\n",
       " 2557,\n",
       " 2558,\n",
       " 2559,\n",
       " 2560,\n",
       " 2562,\n",
       " 2563,\n",
       " 2565,\n",
       " 2566,\n",
       " 2567,\n",
       " 2568,\n",
       " 2570,\n",
       " 2571,\n",
       " 2572,\n",
       " 2574,\n",
       " 2577,\n",
       " 2580,\n",
       " 2585,\n",
       " 2589,\n",
       " 2590,\n",
       " 2591,\n",
       " 2592,\n",
       " 2596,\n",
       " 2597,\n",
       " 2603,\n",
       " 2604,\n",
       " 2605,\n",
       " 2609,\n",
       " 2610,\n",
       " 2611,\n",
       " 2612,\n",
       " 2613,\n",
       " 2614,\n",
       " 2616,\n",
       " 2617,\n",
       " 2619,\n",
       " 2620,\n",
       " 2623,\n",
       " 2624,\n",
       " 2625,\n",
       " 2626,\n",
       " 2627,\n",
       " 2628,\n",
       " 2631,\n",
       " 2633,\n",
       " 2635,\n",
       " 2637,\n",
       " 2639,\n",
       " 2640,\n",
       " 2644,\n",
       " 2646,\n",
       " 2647,\n",
       " 2649,\n",
       " 2651,\n",
       " 2654,\n",
       " 2656,\n",
       " 2657,\n",
       " 2662,\n",
       " 2663,\n",
       " 2664,\n",
       " 2666,\n",
       " 2667,\n",
       " 2670,\n",
       " 2671,\n",
       " 2672,\n",
       " 2676,\n",
       " 2678,\n",
       " 2679,\n",
       " 2680,\n",
       " 2681,\n",
       " 2684,\n",
       " 2686,\n",
       " 2688,\n",
       " 2690,\n",
       " 2693,\n",
       " 2697,\n",
       " 2698,\n",
       " 2699,\n",
       " 2700,\n",
       " 2703,\n",
       " 2704,\n",
       " 2706,\n",
       " 2707,\n",
       " 2708,\n",
       " 2710,\n",
       " 2711,\n",
       " 2712,\n",
       " 2713,\n",
       " 2716,\n",
       " 2717,\n",
       " 2718,\n",
       " 2719,\n",
       " 2724,\n",
       " 2728,\n",
       " 2731,\n",
       " 2732,\n",
       " 2736,\n",
       " 2738,\n",
       " 2739,\n",
       " 2740,\n",
       " 2742,\n",
       " 2743,\n",
       " 2744,\n",
       " 2746,\n",
       " 2747,\n",
       " 2750,\n",
       " 2752,\n",
       " 2756,\n",
       " 2758,\n",
       " 2760,\n",
       " 2761,\n",
       " 2763,\n",
       " 2764,\n",
       " 2771,\n",
       " 2774,\n",
       " 2777,\n",
       " 2778,\n",
       " 2781,\n",
       " 2782,\n",
       " 2783,\n",
       " 2784,\n",
       " 2785,\n",
       " 2787,\n",
       " 2788,\n",
       " 2790,\n",
       " 2791,\n",
       " 2792,\n",
       " 2795,\n",
       " 2796,\n",
       " 2797,\n",
       " 2798,\n",
       " 2800,\n",
       " 2802,\n",
       " 2803,\n",
       " 2804,\n",
       " 2809,\n",
       " 2810,\n",
       " 2813,\n",
       " 2815,\n",
       " 2817,\n",
       " 2820,\n",
       " 2821,\n",
       " 2822,\n",
       " 2823,\n",
       " 2824,\n",
       " 2826,\n",
       " 2828,\n",
       " 2829,\n",
       " 2830,\n",
       " 2832,\n",
       " 2835,\n",
       " 2839,\n",
       " 2840,\n",
       " 2841,\n",
       " 2842,\n",
       " 2847,\n",
       " 2848,\n",
       " 2851,\n",
       " 2853,\n",
       " 2854,\n",
       " 2856,\n",
       " 2857,\n",
       " 2858,\n",
       " 2859,\n",
       " 2861,\n",
       " 2862,\n",
       " 2863,\n",
       " 2869,\n",
       " 2870,\n",
       " 2872,\n",
       " 2874,\n",
       " 2875,\n",
       " 2876,\n",
       " 2877,\n",
       " 2878,\n",
       " 2881,\n",
       " 2882,\n",
       " 2884,\n",
       " 2885,\n",
       " 2888,\n",
       " 2891,\n",
       " 2893,\n",
       " 2894,\n",
       " 2895,\n",
       " 2896,\n",
       " 2898,\n",
       " 2899,\n",
       " 2904,\n",
       " 2906,\n",
       " 2908,\n",
       " 2909,\n",
       " 2914,\n",
       " 2915,\n",
       " 2916,\n",
       " 2919,\n",
       " 2921,\n",
       " 2922,\n",
       " 2925,\n",
       " 2926,\n",
       " 2927,\n",
       " 2929,\n",
       " 2930,\n",
       " 2931,\n",
       " 2933,\n",
       " 2934,\n",
       " 2936,\n",
       " 2937,\n",
       " 2938,\n",
       " 2940,\n",
       " 2943,\n",
       " 2945,\n",
       " 2946,\n",
       " 2947,\n",
       " 2948,\n",
       " 2949,\n",
       " 2953,\n",
       " 2954,\n",
       " 2955,\n",
       " 2956,\n",
       " 2957,\n",
       " 2959,\n",
       " 2961,\n",
       " 2962,\n",
       " 2963,\n",
       " 2966,\n",
       " 2967,\n",
       " 2968,\n",
       " 2970,\n",
       " 2974,\n",
       " 2975,\n",
       " 2976,\n",
       " 2977,\n",
       " 2981,\n",
       " 2982,\n",
       " 2983,\n",
       " 2984,\n",
       " 2986,\n",
       " 2987,\n",
       " 2988,\n",
       " 2989,\n",
       " 2990,\n",
       " 2992,\n",
       " 2995,\n",
       " 2996,\n",
       " 2997,\n",
       " 2998,\n",
       " 2999,\n",
       " 3000,\n",
       " 3002,\n",
       " 3004,\n",
       " 3005,\n",
       " 3007,\n",
       " 3009,\n",
       " 3011,\n",
       " 3012,\n",
       " 3013,\n",
       " 3014,\n",
       " 3017,\n",
       " 3019,\n",
       " 3023,\n",
       " 3024,\n",
       " 3027,\n",
       " 3028,\n",
       " 3029,\n",
       " 3030,\n",
       " 3031,\n",
       " 3032,\n",
       " ...]"
      ]
     },
     "execution_count": 208,
     "metadata": {},
     "output_type": "execute_result"
    }
   ],
   "source": [
    "dat1"
   ]
  },
  {
   "cell_type": "code",
   "execution_count": 235,
   "metadata": {},
   "outputs": [],
   "source": [
    "dic = {}\n",
    "for item in dat:\n",
    "            if dic.get(item[0])==None:\n",
    "                dic[item[0]] = [item[1]]\n",
    "            else:\n",
    "                dic[item[0]].append(item[1])"
   ]
  },
  {
   "cell_type": "code",
   "execution_count": 247,
   "metadata": {},
   "outputs": [
    {
     "data": {
      "text/plain": [
       "2596"
      ]
     },
     "execution_count": 247,
     "metadata": {},
     "output_type": "execute_result"
    }
   ],
   "source": [
    "len(dic)"
   ]
  },
  {
   "cell_type": "code",
   "execution_count": 211,
   "metadata": {},
   "outputs": [],
   "source": [
    "import copy\n",
    "\n",
    "roads = []\n",
    "roder = []\n",
    "def findPath(v,path):\n",
    "    print(\"path0:\",path)\n",
    "    lis = dic.get(v)\n",
    "    if len(lis)>1:\n",
    "        temp = copy.deepcopy(path)\n",
    "        roder.append(temp)\n",
    "     #   roads.append(copy.deepcopy(path))\n",
    "    for i in lis:\n",
    "        print(i)\n",
    "        if i==path[0] or len(path)>7:\n",
    "            roads.append(copy.deepcopy(path))\n",
    "            continue\n",
    "        \n",
    "        path.append(i)\n",
    "        findPath(i,path)\n",
    "        \n",
    "        '''\n",
    "        if i!=path[0] and len(path)<=7:\n",
    "            \n",
    "            path.append(i)\n",
    "            print(\"path:\",path)\n",
    "            findPath(i,path)\n",
    "        elif i==path[0]:\n",
    "            roads.append(copy.deepcopy(path))\n",
    "            continue\n",
    "        elif len(path)>7:\n",
    "            path = roder[-1]\n",
    "            roder.pop(-1)\n",
    "            print(path)\n",
    "            continue\n",
    "      '''"
   ]
  },
  {
   "cell_type": "code",
   "execution_count": 212,
   "metadata": {},
   "outputs": [
    {
     "name": "stdout",
     "output_type": "stream",
     "text": [
      "path0: [145]\n",
      "234\n",
      "path0: [145, 234]\n",
      "94\n",
      "path0: [145, 234, 94]\n",
      "145\n",
      "91\n",
      "path0: [145, 234, 94, 91]\n",
      "223\n",
      "path0: [145, 234, 94, 91, 223]\n",
      "94\n",
      "path0: [145, 234, 94, 91, 223, 94]\n",
      "145\n",
      "91\n",
      "path0: [145, 234, 94, 91, 223, 94, 91]\n",
      "223\n",
      "path0: [145, 234, 94, 91, 223, 94, 91, 223]\n",
      "94\n",
      "237\n",
      "237\n",
      "505\n"
     ]
    }
   ],
   "source": [
    "findPath(145,[145])"
   ]
  },
  {
   "cell_type": "code",
   "execution_count": 213,
   "metadata": {},
   "outputs": [
    {
     "data": {
      "text/plain": [
       "[[145, 234, 94],\n",
       " [145, 234, 94, 91, 223, 94],\n",
       " [145, 234, 94, 91, 223, 94, 91, 223],\n",
       " [145, 234, 94, 91, 223, 94, 91, 223],\n",
       " [145, 234, 94, 91, 223, 94, 91, 223],\n",
       " [145, 234, 94, 91, 223, 94, 91, 223]]"
      ]
     },
     "execution_count": 213,
     "metadata": {},
     "output_type": "execute_result"
    }
   ],
   "source": [
    "roads"
   ]
  },
  {
   "cell_type": "code",
   "execution_count": 214,
   "metadata": {},
   "outputs": [],
   "source": [
    "a = dic.get(94)"
   ]
  },
  {
   "cell_type": "code",
   "execution_count": 215,
   "metadata": {},
   "outputs": [
    {
     "data": {
      "text/plain": [
       "[114]"
      ]
     },
     "execution_count": 215,
     "metadata": {},
     "output_type": "execute_result"
    }
   ],
   "source": [
    "dic[237]"
   ]
  },
  {
   "cell_type": "code",
   "execution_count": 222,
   "metadata": {},
   "outputs": [],
   "source": [
    "roads = []"
   ]
  },
  {
   "cell_type": "code",
   "execution_count": 237,
   "metadata": {},
   "outputs": [],
   "source": [
    "recoder = []\n",
    "def findp(v,path):\n",
    "\n",
    "    lis = dic.get(v)\n",
    "    if(lis==None):\n",
    "        return\n",
    "    for i in lis:\n",
    "        temp = copy.copy(path)\n",
    "        if i==path[0]:\n",
    "            roads.append(temp)\n",
    "            continue\n",
    "        elif len(temp)>7:\n",
    "            continue\n",
    "        else:\n",
    "            temp.append(i)\n",
    "            findp(i,temp)\n",
    "    return temp\n",
    "            "
   ]
  },
  {
   "cell_type": "code",
   "execution_count": 238,
   "metadata": {},
   "outputs": [
    {
     "data": {
      "text/plain": [
       "[176, 1039]"
      ]
     },
     "execution_count": 238,
     "metadata": {},
     "output_type": "execute_result"
    }
   ],
   "source": [
    "findp(176,[176])"
   ]
  },
  {
   "cell_type": "code",
   "execution_count": 239,
   "metadata": {},
   "outputs": [
    {
     "data": {
      "text/plain": [
       "[]"
      ]
     },
     "execution_count": 239,
     "metadata": {},
     "output_type": "execute_result"
    }
   ],
   "source": [
    "roads"
   ]
  },
  {
   "cell_type": "code",
   "execution_count": 248,
   "metadata": {},
   "outputs": [
    {
     "data": {
      "text/plain": [
       "[6007, 6004]"
      ]
     },
     "execution_count": 248,
     "metadata": {},
     "output_type": "execute_result"
    }
   ],
   "source": [
    "dic[6003]"
   ]
  },
  {
   "cell_type": "code",
   "execution_count": 143,
   "metadata": {},
   "outputs": [
    {
     "data": {
      "text/plain": [
       "[4940]"
      ]
     },
     "execution_count": 143,
     "metadata": {},
     "output_type": "execute_result"
    }
   ],
   "source": [
    "dic[4387]"
   ]
  },
  {
   "cell_type": "code",
   "execution_count": 144,
   "metadata": {},
   "outputs": [],
   "source": [
    "a = [1,2,3]\n",
    "b = copy.copy(a)"
   ]
  },
  {
   "cell_type": "code",
   "execution_count": 145,
   "metadata": {},
   "outputs": [],
   "source": [
    "b[1] = 0"
   ]
  },
  {
   "cell_type": "code",
   "execution_count": 291,
   "metadata": {},
   "outputs": [
    {
     "data": {
      "text/plain": [
       "[145, 91, 237]"
      ]
     },
     "execution_count": 291,
     "metadata": {},
     "output_type": "execute_result"
    }
   ],
   "source": [
    "dic[94]"
   ]
  },
  {
   "cell_type": "code",
   "execution_count": 170,
   "metadata": {},
   "outputs": [],
   "source": [
    "a = dic.get(5000)"
   ]
  },
  {
   "cell_type": "code",
   "execution_count": 172,
   "metadata": {},
   "outputs": [],
   "source": [
    "a = dic.keys()"
   ]
  },
  {
   "cell_type": "code",
   "execution_count": 175,
   "metadata": {},
   "outputs": [
    {
     "name": "stdout",
     "output_type": "stream",
     "text": [
      "1\n"
     ]
    }
   ],
   "source": [
    "if 5000 not in a:\n",
    "    print(1)"
   ]
  },
  {
   "cell_type": "code",
   "execution_count": 251,
   "metadata": {},
   "outputs": [],
   "source": [
    "b = dic.values()"
   ]
  },
  {
   "cell_type": "code",
   "execution_count": 253,
   "metadata": {},
   "outputs": [
    {
     "data": {
      "text/plain": [
       "3"
      ]
     },
     "execution_count": 253,
     "metadata": {},
     "output_type": "execute_result"
    }
   ],
   "source": [
    "b=[[7],[0,9],[8]]\n",
    "len(b)"
   ]
  },
  {
   "cell_type": "code",
   "execution_count": 197,
   "metadata": {},
   "outputs": [
    {
     "data": {
      "text/plain": [
       "{2, 3, 4, 5}"
      ]
     },
     "execution_count": 197,
     "metadata": {},
     "output_type": "execute_result"
    }
   ],
   "source": [
    "a = set([1,2,3,4,5,6])\n",
    "b= set([2,3,4,5,7])\n",
    "a&b"
   ]
  },
  {
   "cell_type": "code",
   "execution_count": 255,
   "metadata": {},
   "outputs": [],
   "source": [
    "d = [[1,2,3],[4,5,6],[7,8,9]]"
   ]
  },
  {
   "cell_type": "code",
   "execution_count": 267,
   "metadata": {},
   "outputs": [],
   "source": [
    "with open(\"file\",'w') as fw:\n",
    "    for item in d:\n",
    "        st = \"\"\n",
    "        for j in item:\n",
    "            st+=str(j)+','\n",
    "        fw.write('%s\\n'%st[:-1])\n",
    "fw.close()"
   ]
  },
  {
   "cell_type": "code",
   "execution_count": 259,
   "metadata": {},
   "outputs": [
    {
     "data": {
      "text/plain": [
       "[4, 5, 6]"
      ]
     },
     "execution_count": 259,
     "metadata": {},
     "output_type": "execute_result"
    }
   ],
   "source": [
    "d[1]"
   ]
  },
  {
   "cell_type": "code",
   "execution_count": 262,
   "metadata": {},
   "outputs": [
    {
     "data": {
      "text/plain": [
       "'[,4,,, ,5,,, ,6,]'"
      ]
     },
     "execution_count": 262,
     "metadata": {},
     "output_type": "execute_result"
    }
   ],
   "source": [
    "\",\".join(str(d[1]))"
   ]
  },
  {
   "cell_type": "code",
   "execution_count": 263,
   "metadata": {},
   "outputs": [
    {
     "data": {
      "text/plain": [
       "'[4, 5, 6]'"
      ]
     },
     "execution_count": 263,
     "metadata": {},
     "output_type": "execute_result"
    }
   ],
   "source": [
    "str(d[1])"
   ]
  },
  {
   "cell_type": "code",
   "execution_count": 264,
   "metadata": {},
   "outputs": [
    {
     "data": {
      "text/plain": [
       "'1,2,3'"
      ]
     },
     "execution_count": 264,
     "metadata": {},
     "output_type": "execute_result"
    }
   ],
   "source": [
    "st = \"1,2,3,\"\n",
    "st[:-1]"
   ]
  },
  {
   "cell_type": "markdown",
   "metadata": {},
   "source": [
    "[[0.8,0.2]\n",
    " [0.2,0.8]] "
   ]
  },
  {
   "cell_type": "code",
   "execution_count": 268,
   "metadata": {},
   "outputs": [],
   "source": [
    "a = np.array([[0.8,0.2],[0.2,0.8]])"
   ]
  },
  {
   "cell_type": "code",
   "execution_count": 271,
   "metadata": {},
   "outputs": [],
   "source": [
    "b = np.matmul(a,a)"
   ]
  },
  {
   "cell_type": "code",
   "execution_count": 272,
   "metadata": {},
   "outputs": [
    {
     "data": {
      "text/plain": [
       "array([[0.608, 0.392],\n",
       "       [0.392, 0.608]])"
      ]
     },
     "execution_count": 272,
     "metadata": {},
     "output_type": "execute_result"
    }
   ],
   "source": [
    "np.matmul(b,a)"
   ]
  },
  {
   "cell_type": "code",
   "execution_count": 273,
   "metadata": {},
   "outputs": [
    {
     "data": {
      "text/plain": [
       "array([[0.512, 0.008],\n",
       "       [0.008, 0.512]])"
      ]
     },
     "execution_count": 273,
     "metadata": {},
     "output_type": "execute_result"
    }
   ],
   "source": [
    "np.power(a,3)"
   ]
  },
  {
   "cell_type": "code",
   "execution_count": 276,
   "metadata": {},
   "outputs": [
    {
     "data": {
      "text/plain": [
       "[[1], [4, 5, 6], [2, 3, 4], [2, 3, 6, 7]]"
      ]
     },
     "execution_count": 276,
     "metadata": {},
     "output_type": "execute_result"
    }
   ],
   "source": [
    "b = np.array([[1],[2,3,6,7],[4,5,6],[2,3,4]])\n",
    "sorted(b,key=lambda item:len(item))"
   ]
  },
  {
   "cell_type": "code",
   "execution_count": 277,
   "metadata": {},
   "outputs": [
    {
     "data": {
      "text/plain": [
       "[[1], [2, 3, 6, 7], [2, 3, 4], [4, 5, 6]]"
      ]
     },
     "execution_count": 277,
     "metadata": {},
     "output_type": "execute_result"
    }
   ],
   "source": [
    "sorted(b,key=lambda item:item[0])"
   ]
  },
  {
   "cell_type": "code",
   "execution_count": 289,
   "metadata": {},
   "outputs": [],
   "source": [
    "#data1 = np.loadtxt(\"output.txt\",dtype=np.int32,delimiter=',')\n",
    "#data1 = np.loadtxt('output.txt',dtype=np.int32, delimiter=',')\n",
    "\n",
    "data1 = np.array([[58,164,149],[164,149,58],[145,234,94],[145,234,94,91,223,94],[145,234,94,237,114,94],[145,234,505,413,485,234,94]])"
   ]
  },
  {
   "cell_type": "code",
   "execution_count": 290,
   "metadata": {},
   "outputs": [
    {
     "data": {
      "text/plain": [
       "array([list([58, 164, 149]), list([164, 149, 58]), list([145, 234, 94]),\n",
       "       list([145, 234, 94, 91, 223, 94]),\n",
       "       list([145, 234, 94, 237, 114, 94]),\n",
       "       list([145, 234, 505, 413, 485, 234, 94])], dtype=object)"
      ]
     },
     "execution_count": 290,
     "metadata": {},
     "output_type": "execute_result"
    }
   ],
   "source": [
    "data1"
   ]
  },
  {
   "cell_type": "code",
   "execution_count": 292,
   "metadata": {},
   "outputs": [],
   "source": [
    "three = []\n",
    "six = []\n",
    "seven = []\n",
    "for item in data1:\n",
    "    if len(item)==3:\n",
    "        three.append(item)\n",
    "    if len(item)==6:\n",
    "        six.append(item)\n",
    "    else:\n",
    "        seven.append(item)"
   ]
  },
  {
   "cell_type": "code",
   "execution_count": 293,
   "metadata": {},
   "outputs": [
    {
     "data": {
      "text/plain": [
       "[[58, 164, 149], [164, 149, 58], [145, 234, 94]]"
      ]
     },
     "execution_count": 293,
     "metadata": {},
     "output_type": "execute_result"
    }
   ],
   "source": [
    "three"
   ]
  },
  {
   "cell_type": "code",
   "execution_count": 296,
   "metadata": {},
   "outputs": [],
   "source": [
    "def func(three):\n",
    "    d = []\n",
    "    for item in three:\n",
    "        s = sum(item)\n",
    "        i=0\n",
    "        num=0\n",
    "        for j in item:\n",
    "            num += j/s*np.power(10,i)\n",
    "            i+=1\n",
    "        d.append(num)\n",
    "    return d"
   ]
  },
  {
   "cell_type": "code",
   "execution_count": 302,
   "metadata": {},
   "outputs": [],
   "source": [
    "def func1(item):\n",
    "    num=i=0\n",
    "    s = sum(item)\n",
    "    for j in item:\n",
    "        num += j/s*np.power(10,i)\n",
    "        i+=1\n",
    "    return num"
   ]
  },
  {
   "cell_type": "code",
   "execution_count": 297,
   "metadata": {},
   "outputs": [],
   "source": [
    "d = func(three)\n",
    "    "
   ]
  },
  {
   "cell_type": "code",
   "execution_count": 304,
   "metadata": {},
   "outputs": [],
   "source": [
    "three.append([23,34,45,4])"
   ]
  },
  {
   "cell_type": "code",
   "execution_count": 306,
   "metadata": {},
   "outputs": [
    {
     "data": {
      "text/plain": [
       "[[23, 34, 45, 4], [58, 164, 149], [145, 234, 94], [164, 149, 58]]"
      ]
     },
     "execution_count": 306,
     "metadata": {},
     "output_type": "execute_result"
    }
   ],
   "source": [
    "sorted(three,key=lambda item:func1(item),reverse=True)"
   ]
  },
  {
   "cell_type": "code",
   "execution_count": null,
   "metadata": {},
   "outputs": [],
   "source": [
    "item = three"
   ]
  },
  {
   "cell_type": "code",
   "execution_count": null,
   "metadata": {},
   "outputs": [],
   "source": [
    "lambda item:item[0]"
   ]
  },
  {
   "cell_type": "code",
   "execution_count": 305,
   "metadata": {},
   "outputs": [
    {
     "data": {
      "text/plain": [
       "[[58, 164, 149], [164, 149, 58], [145, 234, 94], [23, 34, 45, 4]]"
      ]
     },
     "execution_count": 305,
     "metadata": {},
     "output_type": "execute_result"
    }
   ],
   "source": [
    "three"
   ]
  },
  {
   "cell_type": "code",
   "execution_count": null,
   "metadata": {},
   "outputs": [],
   "source": []
  }
 ],
 "metadata": {
  "kernelspec": {
   "display_name": "Python 3",
   "language": "python",
   "name": "python3"
  },
  "language_info": {
   "codemirror_mode": {
    "name": "ipython",
    "version": 3
   },
   "file_extension": ".py",
   "mimetype": "text/x-python",
   "name": "python",
   "nbconvert_exporter": "python",
   "pygments_lexer": "ipython3",
   "version": "3.6.9"
  }
 },
 "nbformat": 4,
 "nbformat_minor": 2
}
